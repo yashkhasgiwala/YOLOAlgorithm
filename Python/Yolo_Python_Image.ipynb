{
 "cells": [
  {
   "cell_type": "code",
   "execution_count": 2,
   "metadata": {},
   "outputs": [],
   "source": [
    "import cv2\n",
    "import matplotlib as plt\n",
    "%matplotlib inline\n",
    "import numpy as np"
   ]
  },
  {
   "cell_type": "code",
   "execution_count": 3,
   "metadata": {},
   "outputs": [],
   "source": [
    "labels = open('coco.names.txt').read().strip().split('\\n')#reading pretrained object labels"
   ]
  },
  {
   "cell_type": "code",
   "execution_count": 4,
   "metadata": {},
   "outputs": [],
   "source": [
    "weights = 'yolov3.weights'#pretrained weights\n",
    "architecture = 'yolov3.cfg.txt'#Neural network architecture"
   ]
  },
  {
   "cell_type": "code",
   "execution_count": 5,
   "metadata": {},
   "outputs": [],
   "source": [
    "model = cv2.dnn.readNet(architecture,weights)#reading the neural network"
   ]
  },
  {
   "cell_type": "code",
   "execution_count": 6,
   "metadata": {},
   "outputs": [],
   "source": [
    "colors = np.random.uniform(0, 255, size=(len(labels), 3))#bounding box color for each class"
   ]
  },
  {
   "cell_type": "code",
   "execution_count": 7,
   "metadata": {},
   "outputs": [],
   "source": [
    "image = cv2.imread('street.jpg')#reading static image\n",
    "Height,Width = image.shape[:2]#for scaling our bounding box wrt to image"
   ]
  },
  {
   "cell_type": "code",
   "execution_count": 8,
   "metadata": {},
   "outputs": [
    {
     "data": {
      "text/plain": [
       "(1, 3, 416, 416)"
      ]
     },
     "execution_count": 8,
     "metadata": {},
     "output_type": "execute_result"
    }
   ],
   "source": [
    "#changes the image to required input format for neural network \n",
    "#adds the batch parameter, normalizes the pixels, resize to 416x416, swaps R and B channel\n",
    "blob = cv2.dnn.blobFromImage(image, 1/255.0, (416, 416), swapRB=True, crop=False)\n",
    "blob.shape"
   ]
  },
  {
   "cell_type": "code",
   "execution_count": 9,
   "metadata": {},
   "outputs": [],
   "source": [
    "model.setInput(blob)#Sets the new input value for the network"
   ]
  },
  {
   "cell_type": "code",
   "execution_count": 10,
   "metadata": {},
   "outputs": [],
   "source": [
    "def forward_prop(model):\n",
    "    layers = model.getLayerNames()#get all layer names\n",
    "    output_layer = [layers[i[0]-1] for i in model.getUnconnectedOutLayers()]#get names of output layers\n",
    "    return model.forward(output_layer)#does forward prop and gives output for the layers passed to it"
   ]
  },
  {
   "cell_type": "code",
   "execution_count": 11,
   "metadata": {},
   "outputs": [],
   "source": [
    "CONFIDENCE = 0.65\n",
    "IOU_THRESHOLD = 0.5\n",
    "boxes, confidences, class_ids = [], [], []"
   ]
  },
  {
   "cell_type": "code",
   "execution_count": 12,
   "metadata": {},
   "outputs": [],
   "source": [
    "outputs = forward_prop(model)#outputs of the last layer of NN "
   ]
  },
  {
   "cell_type": "code",
   "execution_count": 13,
   "metadata": {},
   "outputs": [],
   "source": [
    "for output in outputs:#loop through output of NN\n",
    "    for pred in output:#loop through all predictions\n",
    "        class_scores = pred[5:]#get class probs\n",
    "        class_id = np.argmax(class_scores)#find max class prob\n",
    "        class_prob = class_scores[class_id]#get class_id of class with max prob\n",
    "        if class_prob>CONFIDENCE:\n",
    "            #scale dimensions of bounding box wrt to image\n",
    "            center_x = int(pred[0] * Width)\n",
    "            center_y = int(pred[1] * Height)\n",
    "            w = int(pred[2] * Width)\n",
    "            h = int(pred[3] * Height)\n",
    "            #getting top-left co-ordinates\n",
    "            x = center_x - (w / 2)\n",
    "            y = center_y - (h / 2)\n",
    "            class_ids.append(class_id)\n",
    "            confidences.append(float(class_prob))\n",
    "            boxes.append([x, y, w, h])"
   ]
  },
  {
   "cell_type": "code",
   "execution_count": 14,
   "metadata": {},
   "outputs": [],
   "source": [
    "indices=cv2.dnn.NMSBoxes(boxes,confidences,CONFIDENCE,IOU_THRESHOLD)#performs nms and returns boxes to be kept"
   ]
  },
  {
   "cell_type": "code",
   "execution_count": 15,
   "metadata": {},
   "outputs": [],
   "source": [
    "def bounding_box(image,x,y,w,h,class_id,prob):\n",
    "    label = labels[class_id]#getting label\n",
    "    color = colors[class_id]#getting random color\n",
    "    text = label+' : '+str(prob)\n",
    "    cv2.rectangle(image,(x,y),(x+w,y+h),color=color,thickness=2)#bounding box rectangle\n",
    "    (width,height)=cv2.getTextSize(text, cv2.FONT_HERSHEY_SIMPLEX, fontScale=1.3, thickness=1)[0]#getting size of text\n",
    "    cv2.rectangle(image,(x,y-height),(x+width+2,y),color=color,thickness=-1)#box for placing text\n",
    "    cv2.putText(image,text,(x,y-5),cv2.FONT_HERSHEY_SIMPLEX,fontScale=1,color=(0,0,0),thickness=1)#displaying text"
   ]
  },
  {
   "cell_type": "code",
   "execution_count": 16,
   "metadata": {},
   "outputs": [],
   "source": [
    "for i in indices.flatten():\n",
    "    x,y,w,h = boxes[i][0],boxes[i][1],boxes[i][2],boxes[i][3]\n",
    "    prob=round(confidences[i], 3)\n",
    "    bounding_box(image,int(x),int(y),int(w),int(h), class_ids[i] ,prob )"
   ]
  },
  {
   "cell_type": "code",
   "execution_count": 17,
   "metadata": {},
   "outputs": [],
   "source": [
    "cv2.imshow(\"object detection\", image)\n",
    "cv2.waitKey()\n",
    "cv2.destroyAllWindows()"
   ]
  },
  {
   "cell_type": "code",
   "execution_count": 18,
   "metadata": {},
   "outputs": [
    {
     "data": {
      "text/plain": [
       "True"
      ]
     },
     "execution_count": 18,
     "metadata": {},
     "output_type": "execute_result"
    }
   ],
   "source": [
    "cv2.imwrite('image.jpg',image)"
   ]
  },
  {
   "cell_type": "code",
   "execution_count": null,
   "metadata": {},
   "outputs": [],
   "source": []
  }
 ],
 "metadata": {
  "kernelspec": {
   "display_name": "Python 3",
   "language": "python",
   "name": "python3"
  },
  "language_info": {
   "codemirror_mode": {
    "name": "ipython",
    "version": 3
   },
   "file_extension": ".py",
   "mimetype": "text/x-python",
   "name": "python",
   "nbconvert_exporter": "python",
   "pygments_lexer": "ipython3",
   "version": "3.7.0"
  }
 },
 "nbformat": 4,
 "nbformat_minor": 4
}
