{
 "cells": [
  {
   "cell_type": "code",
   "execution_count": 1,
   "metadata": {},
   "outputs": [],
   "source": [
    "import cv2\n",
    "import matplotlib as plt\n",
    "%matplotlib inline\n",
    "import numpy as np"
   ]
  },
  {
   "cell_type": "code",
   "execution_count": 2,
   "metadata": {},
   "outputs": [],
   "source": [
    "labels = open('coco.names.txt').read().strip().split('\\n')#reading pretrained object labels"
   ]
  },
  {
   "cell_type": "code",
   "execution_count": 3,
   "metadata": {},
   "outputs": [],
   "source": [
    "weights = 'yolov3.weights'#pretrained weights\n",
    "architecture = 'yolov3.cfg.txt'#Neural network architecture"
   ]
  },
  {
   "cell_type": "code",
   "execution_count": 4,
   "metadata": {},
   "outputs": [],
   "source": [
    "model = cv2.dnn.readNet(architecture,weights)#reading the neural network"
   ]
  },
  {
   "cell_type": "code",
   "execution_count": 28,
   "metadata": {},
   "outputs": [],
   "source": [
    "colors = np.random.uniform(0, 255, size=(len(labels), 3))#bounding box color for each class"
   ]
  },
  {
   "cell_type": "code",
   "execution_count": 6,
   "metadata": {},
   "outputs": [],
   "source": [
    "layers = model.getLayerNames()#get all layer names\n",
    "output_layer = [layers[i[0]-1] for i in model.getUnconnectedOutLayers()]#get names of output layers"
   ]
  },
  {
   "cell_type": "code",
   "execution_count": 7,
   "metadata": {},
   "outputs": [],
   "source": [
    "CONFIDENCE = 0.65\n",
    "IOU_THRESHOLD = 0.5"
   ]
  },
  {
   "cell_type": "code",
   "execution_count": 29,
   "metadata": {},
   "outputs": [],
   "source": [
    "cap = cv2.VideoCapture(0)#Capture video frm web cam\n",
    "# frame_width = int(cap.get(3)) \n",
    "# frame_height = int(cap.get(4)) \n",
    "   \n",
    "# size = (frame_width, frame_height)\n",
    "\n",
    "# writer = cv2.VideoWriter('filename.avi',  \n",
    "#                          cv2.VideoWriter_fourcc(*'MJPG'), \n",
    "#                          10, size)"
   ]
  },
  {
   "cell_type": "code",
   "execution_count": 30,
   "metadata": {},
   "outputs": [],
   "source": [
    "while cap.isOpened():\n",
    "    grabbed, image1 = cap.read()#reading all frames\n",
    "    if not grabbed:\n",
    "        break\n",
    "    Height,Width = image1.shape[:2]#for scaling our bounding box wrt to image\n",
    "    blob = cv2.dnn.blobFromImage(image1, 1/255.0, (416, 416), swapRB=True, crop=False)#changes the image to required input format for neural network \n",
    "    model.setInput(blob)#Sets the new input value for the network\n",
    "    outputs = model.forward(output_layer)#outputs of the last layer of NN\n",
    "    boxes, confidences, class_ids = [], [], []\n",
    "    for output in outputs:#loop through output of NN\n",
    "        for pred in output:#loop through all predictions\n",
    "            class_scores = pred[5:]#get class probs\n",
    "            class_id = np.argmax(class_scores)#find max class prob\n",
    "            class_prob = class_scores[class_id]#get class_id of class with max prob\n",
    "            if class_prob>CONFIDENCE:\n",
    "                #scale dimensions of bounding box wrt to image\n",
    "                center_x = int(pred[0] * Width)\n",
    "                center_y = int(pred[1] * Height)\n",
    "                w = int(pred[2] * Width)\n",
    "                h = int(pred[3] * Height)\n",
    "                #getting top-left co-ordinates\n",
    "                x = center_x - (w / 2)\n",
    "                y = center_y - (h / 2)\n",
    "                class_ids.append(class_id)\n",
    "                confidences.append(float(class_prob))\n",
    "                boxes.append([x, y, w, h])\n",
    "    indices=cv2.dnn.NMSBoxes(boxes,confidences,CONFIDENCE,IOU_THRESHOLD)#performs nms and returns boxes to be kept\n",
    "    if len(indices) > 0:\n",
    "        for i in indices.flatten():\n",
    "            x,y,w,h = boxes[i][0],boxes[i][1],boxes[i][2],boxes[i][3]\n",
    "            prob=round(confidences[i], 3)#restricting to 3 decimals\n",
    "            label = labels[class_ids[i]]#getting label\n",
    "            color = colors[class_ids[i]]#getting random color\n",
    "            text = label+' : '+str(prob)\n",
    "            cv2.rectangle(image1,(int(x),int(y)),(int(x+w),int(y+h)),color=color,thickness=2)#bounding box rectangle\n",
    "            (width,height)=cv2.getTextSize(text, cv2.FONT_HERSHEY_SIMPLEX, fontScale=1.3, thickness=1)[0]#getting size of text\n",
    "            cv2.rectangle(image1,(int(x),int(y-height)),(int(x+width+2),int(y)),color=color,thickness=-1)#box for placing text\n",
    "            cv2.putText(image1,text,(int(x),int(y-5)),cv2.FONT_HERSHEY_SIMPLEX,fontScale=1,color=(0,0,0),thickness=1)#displaying text\n",
    "    cv2.imshow('vid',image1)\n",
    "#     writer.write(image1)\n",
    "    if cv2.waitKey(25) & 0xFF ==ord('q'):\n",
    "        break\n",
    "# writer.release()        \n",
    "cap.release()\n",
    "cv2.destroyAllWindows()        "
   ]
  }
 ],
 "metadata": {
  "kernelspec": {
   "display_name": "Python 3",
   "language": "python",
   "name": "python3"
  },
  "language_info": {
   "codemirror_mode": {
    "name": "ipython",
    "version": 3
   },
   "file_extension": ".py",
   "mimetype": "text/x-python",
   "name": "python",
   "nbconvert_exporter": "python",
   "pygments_lexer": "ipython3",
   "version": "3.7.0"
  }
 },
 "nbformat": 4,
 "nbformat_minor": 4
}
