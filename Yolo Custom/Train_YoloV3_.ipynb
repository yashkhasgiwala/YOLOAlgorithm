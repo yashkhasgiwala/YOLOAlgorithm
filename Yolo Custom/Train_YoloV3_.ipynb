{
  "nbformat": 4,
  "nbformat_minor": 0,
  "metadata": {
    "colab": {
      "name": "Train_YoloV3 .ipynb",
      "provenance": [],
      "collapsed_sections": []
    },
    "kernelspec": {
      "name": "python3",
      "display_name": "Python 3"
    },
    "accelerator": "GPU"
  },
  "cells": [
    {
      "cell_type": "markdown",
      "metadata": {
        "id": "wHBQcQzjD6HJ",
        "colab_type": "text"
      },
      "source": [
        "**Connect google drive**"
      ]
    },
    {
      "cell_type": "code",
      "metadata": {
        "id": "bwp6NIrsZZFP",
        "colab_type": "code",
        "colab": {}
      },
      "source": [
        "# Check if NVIDIA GPU is enabled\n",
        "!nvidia-smi"
      ],
      "execution_count": null,
      "outputs": []
    },
    {
      "cell_type": "code",
      "metadata": {
        "id": "9e9ZW3sqMEPO",
        "colab_type": "code",
        "colab": {}
      },
      "source": [
        "from google.colab import drive\n",
        "drive.mount('/content/gdrive')\n",
        "!ln -s /content/gdrive/My\\ Drive/ /mydrive\n",
        "!ls /mydrive"
      ],
      "execution_count": null,
      "outputs": []
    },
    {
      "cell_type": "markdown",
      "metadata": {
        "id": "t7utW4in4azV",
        "colab_type": "text"
      },
      "source": [
        "**1) Clone the Darknet**\n",
        "\n"
      ]
    },
    {
      "cell_type": "code",
      "metadata": {
        "id": "e03U7Zi-qMr2",
        "colab_type": "code",
        "colab": {
          "base_uri": "https://localhost:8080/",
          "height": 100
        },
        "outputId": "c0d475fd-f6c3-4370-db84-851da5242813"
      },
      "source": [
        "!git clone https://github.com/AlexeyAB/darknet"
      ],
      "execution_count": 2,
      "outputs": [
        {
          "output_type": "stream",
          "text": [
            "Cloning into 'darknet'...\n",
            "remote: Enumerating objects: 14291, done.\u001b[K\n",
            "remote: Total 14291 (delta 0), reused 0 (delta 0), pack-reused 14291\u001b[K\n",
            "Receiving objects: 100% (14291/14291), 12.85 MiB | 25.70 MiB/s, done.\n",
            "Resolving deltas: 100% (9752/9752), done.\n"
          ],
          "name": "stdout"
        }
      ]
    },
    {
      "cell_type": "markdown",
      "metadata": {
        "id": "7gDOF3mU-TAn",
        "colab_type": "text"
      },
      "source": [
        "**2) Compile Darknet using Nvidia GPU**\n"
      ]
    },
    {
      "cell_type": "code",
      "metadata": {
        "id": "5H-Taj06Tw1c",
        "colab_type": "code",
        "colab": {}
      },
      "source": [
        "# change makefile to have GPU and OPENCV enabled\n",
        "%cd darknet\n",
        "!sed -i 's/OPENCV=0/OPENCV=1/' Makefile\n",
        "!sed -i 's/GPU=0/GPU=1/' Makefile\n",
        "!sed -i 's/CUDNN=0/CUDNN=1/' Makefile\n",
        "!make"
      ],
      "execution_count": null,
      "outputs": []
    },
    {
      "cell_type": "markdown",
      "metadata": {
        "id": "gAOLtA_qI9vF",
        "colab_type": "text"
      },
      "source": [
        "**3) Configure Darknet network for training YOLO V3**"
      ]
    },
    {
      "cell_type": "code",
      "metadata": {
        "id": "s-RpscgU853t",
        "colab_type": "code",
        "colab": {}
      },
      "source": [
        "# !cp cfg/yolov3.cfg cfg/yolov3_training.cfg\n",
        "!cp /mydrive/yolov3/yolov3custom.cfg ./cfg"
      ],
      "execution_count": 4,
      "outputs": []
    },
    {
      "cell_type": "code",
      "metadata": {
        "id": "g0YUzZWT-ZIb",
        "colab_type": "code",
        "colab": {}
      },
      "source": [
        "!cp /mydrive/yolov3/obj.names ./data\n",
        "!cp /mydrive/yolov3/obj.data  ./data"
      ],
      "execution_count": 5,
      "outputs": []
    },
    {
      "cell_type": "code",
      "metadata": {
        "id": "nscRN-X2Mr3d",
        "colab_type": "code",
        "colab": {}
      },
      "source": [
        "# Create folder on google drive so that we can save there the weights\n",
        "# !mkdir \"/mydrive/yolov3/backup\""
      ],
      "execution_count": null,
      "outputs": []
    },
    {
      "cell_type": "code",
      "metadata": {
        "id": "eZlkzFMW7I_N",
        "colab_type": "code",
        "colab": {
          "base_uri": "https://localhost:8080/",
          "height": 199
        },
        "outputId": "40b7e911-9c13-4f9a-9bb6-14c8416bb01a"
      },
      "source": [
        "# Download weights darknet model 53\n",
        "!wget https://pjreddie.com/media/files/darknet53.conv.74"
      ],
      "execution_count": null,
      "outputs": [
        {
          "output_type": "stream",
          "text": [
            "--2020-09-10 16:54:50--  https://pjreddie.com/media/files/darknet53.conv.74\n",
            "Resolving pjreddie.com (pjreddie.com)... 128.208.4.108\n",
            "Connecting to pjreddie.com (pjreddie.com)|128.208.4.108|:443... connected.\n",
            "HTTP request sent, awaiting response... 200 OK\n",
            "Length: 162482580 (155M) [application/octet-stream]\n",
            "Saving to: ‘darknet53.conv.74’\n",
            "\n",
            "darknet53.conv.74   100%[===================>] 154.96M   479KB/s    in 4m 53s  \n",
            "\n",
            "2020-09-10 16:59:44 (542 KB/s) - ‘darknet53.conv.74’ saved [162482580/162482580]\n",
            "\n"
          ],
          "name": "stdout"
        }
      ]
    },
    {
      "cell_type": "markdown",
      "metadata": {
        "id": "9RbVKJjoncW2",
        "colab_type": "text"
      },
      "source": [
        "**4) Extract Images**\n",
        "\n",
        "The images need to be inside a zip archive called \"images.zip\" and they need to be inside the folder \"yolov3\" on Google Drive"
      ]
    },
    {
      "cell_type": "code",
      "metadata": {
        "id": "jhb5nZvsQ_96",
        "colab_type": "code",
        "colab": {}
      },
      "source": [
        "!unzip /mydrive/yolov3/images.zip -d data/obj"
      ],
      "execution_count": null,
      "outputs": []
    },
    {
      "cell_type": "code",
      "metadata": {
        "id": "3gHWBpQp9nZX",
        "colab_type": "code",
        "colab": {}
      },
      "source": [
        "!cp /mydrive/yolov3/generate_train.py ./"
      ],
      "execution_count": 7,
      "outputs": []
    },
    {
      "cell_type": "code",
      "metadata": {
        "id": "2zk-CKof-aGv",
        "colab_type": "code",
        "colab": {}
      },
      "source": [
        "!python generate_train.py"
      ],
      "execution_count": 8,
      "outputs": []
    },
    {
      "cell_type": "markdown",
      "metadata": {
        "id": "CeSiuLrXoAjc",
        "colab_type": "text"
      },
      "source": [
        "**6) Start the training**"
      ]
    },
    {
      "cell_type": "code",
      "metadata": {
        "id": "S3_g3jclUzMm",
        "colab_type": "code",
        "colab": {}
      },
      "source": [
        "# Start the training\n",
        "!./darknet detector train data/obj.data cfg/yolov3custom.cfg /mydrive/yolov3/backup/yolov3custom_last.weights -dont_show"
      ],
      "execution_count": null,
      "outputs": []
    }
  ]
}